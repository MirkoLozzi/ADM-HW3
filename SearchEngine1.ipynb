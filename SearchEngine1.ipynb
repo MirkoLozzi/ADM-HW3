{
 "cells": [
  {
   "cell_type": "code",
   "execution_count": 10,
   "metadata": {},
   "outputs": [],
   "source": [
    "import pandas as pd\n",
    "from langdetect import detect\n",
    "from langdetect.lang_detect_exception import LangDetectException"
   ]
  },
  {
   "cell_type": "code",
   "execution_count": 32,
   "metadata": {},
   "outputs": [],
   "source": [
    "df = pd.read_csv('data_in/Books.tsv', sep='\\t', error_bad_lines=False)"
   ]
  },
  {
   "cell_type": "code",
   "execution_count": 33,
   "metadata": {},
   "outputs": [
    {
     "data": {
      "text/plain": [
       "bookId                0\n",
       "bookTitle            20\n",
       "bookSeries        16663\n",
       "bookAuthors          20\n",
       "ratingValue          20\n",
       "ratingCount          20\n",
       "reviewCount          20\n",
       "Plot                598\n",
       "NumberofPages      1158\n",
       "PublishingDate      788\n",
       "Characters        20348\n",
       "Settings          21919\n",
       "url                   0\n",
       "dtype: int64"
      ]
     },
     "execution_count": 33,
     "metadata": {},
     "output_type": "execute_result"
    }
   ],
   "source": [
    "df.isnull().sum()"
   ]
  },
  {
   "cell_type": "code",
   "execution_count": 34,
   "metadata": {},
   "outputs": [],
   "source": [
    "df = df.dropna(subset=['bookTitle', 'bookId', 'url'])"
   ]
  },
  {
   "cell_type": "code",
   "execution_count": 5,
   "metadata": {},
   "outputs": [],
   "source": [
    "def detect_stable(s):\n",
    "    if type(s) == str:\n",
    "        try:\n",
    "            l = detect(s)\n",
    "            return l\n",
    "        except LangDetectException as e:\n",
    "            return None\n",
    "    else:\n",
    "        return None"
   ]
  },
  {
   "cell_type": "code",
   "execution_count": 6,
   "metadata": {},
   "outputs": [],
   "source": [
    "df['lang'] = df['Plot'].apply(detect_stable)"
   ]
  },
  {
   "cell_type": "code",
   "execution_count": 7,
   "metadata": {},
   "outputs": [],
   "source": [
    "df = df[df['lang'] == 'en']"
   ]
  },
  {
   "cell_type": "code",
   "execution_count": 8,
   "metadata": {},
   "outputs": [
    {
     "data": {
      "text/plain": [
       "(26572, 14)"
      ]
     },
     "execution_count": 8,
     "metadata": {},
     "output_type": "execute_result"
    }
   ],
   "source": [
    "df.shape"
   ]
  },
  {
   "cell_type": "code",
   "execution_count": 9,
   "metadata": {},
   "outputs": [],
   "source": [
    "df.to_csv('../data_in/Books_processed.csv')"
   ]
  },
  {
   "cell_type": "code",
   "execution_count": 9,
   "metadata": {},
   "outputs": [],
   "source": [
    "from nltk.stem import SnowballStemmer\n",
    "from string import punctuation\n",
    "from nltk.tokenize import word_tokenize\n",
    "from nltk.corpus import stopwords\n"
   ]
  },
  {
   "cell_type": "code",
   "execution_count": 18,
   "metadata": {},
   "outputs": [],
   "source": [
    "stem = SnowballStemmer(language='english')"
   ]
  },
  {
   "cell_type": "code",
   "execution_count": 12,
   "metadata": {},
   "outputs": [],
   "source": [
    "df['Plot_nopunct'] = df['Plot'].apply(lambda x: x.translate(str.maketrans('', '', punctuation)))"
   ]
  },
  {
   "cell_type": "code",
   "execution_count": 13,
   "metadata": {},
   "outputs": [],
   "source": [
    "df['tokens'] = df['Plot'].apply(word_tokenize)"
   ]
  },
  {
   "cell_type": "code",
   "execution_count": 14,
   "metadata": {},
   "outputs": [],
   "source": [
    "df['tokens2'] = df['Plot_nopunct'].apply(word_tokenize)"
   ]
  },
  {
   "cell_type": "code",
   "execution_count": 15,
   "metadata": {},
   "outputs": [],
   "source": [
    "stopwordset= set(stopwords.words())"
   ]
  },
  {
   "cell_type": "code",
   "execution_count": 16,
   "metadata": {},
   "outputs": [],
   "source": [
    "df['tokens_nostopwords'] = df['tokens2'].apply(lambda x: [w.lower() for w in x if w.lower() not in stopwordset])"
   ]
  },
  {
   "cell_type": "code",
   "execution_count": 17,
   "metadata": {},
   "outputs": [],
   "source": [
    "df['tokens_stemmed'] = df['tokens_nostopwords'].apply(lambda x: [stem.stem(w) for w in x])"
   ]
  },
  {
   "cell_type": "code",
   "execution_count": 18,
   "metadata": {},
   "outputs": [],
   "source": [
    "vocabulary = {}"
   ]
  },
  {
   "cell_type": "code",
   "execution_count": 19,
   "metadata": {},
   "outputs": [],
   "source": [
    "def index_builder(plot, book_id):\n",
    "    for token in plot:\n",
    "        i = vocabulary.get(token)\n",
    "        if i is None:\n",
    "            vocabulary[token] = [book_id]\n",
    "        if i is not None:\n",
    "            vocabulary[token].append(book_id)\n",
    "    return True"
   ]
  },
  {
   "cell_type": "code",
   "execution_count": 20,
   "metadata": {},
   "outputs": [],
   "source": [
    "isok = df.apply(lambda x: index_builder(x['tokens_stemmed'], x['bookId']), axis=1).all()"
   ]
  },
  {
   "cell_type": "code",
   "execution_count": 21,
   "metadata": {},
   "outputs": [
    {
     "data": {
      "text/plain": [
       "True"
      ]
     },
     "execution_count": 21,
     "metadata": {},
     "output_type": "execute_result"
    }
   ],
   "source": [
    "isok"
   ]
  },
  {
   "cell_type": "code",
   "execution_count": 22,
   "metadata": {},
   "outputs": [
    {
     "data": {
      "text/plain": [
       "87428"
      ]
     },
     "execution_count": 22,
     "metadata": {},
     "output_type": "execute_result"
    }
   ],
   "source": [
    "len(vocabulary.keys())"
   ]
  },
  {
   "cell_type": "code",
   "execution_count": 23,
   "metadata": {},
   "outputs": [],
   "source": [
    "df.to_csv('../data_in/Books_processed.csv', index=False)"
   ]
  },
  {
   "cell_type": "code",
   "execution_count": 4,
   "metadata": {},
   "outputs": [],
   "source": [
    "import json"
   ]
  },
  {
   "cell_type": "code",
   "execution_count": 7,
   "metadata": {},
   "outputs": [],
   "source": [
    "#with open('../data_out/vocab1.json', 'w+') as f:\n",
    "#    json.dump(vocabulary, f)\n",
    "    \n",
    "with open('data_out/vocab1.json') as f:\n",
    "    vocabulary = json.load(f)"
   ]
  },
  {
   "cell_type": "code",
   "execution_count": 35,
   "metadata": {},
   "outputs": [
    {
     "name": "stdout",
     "output_type": "stream",
     "text": [
      "america gods\n"
     ]
    },
    {
     "data": {
      "text/html": [
       "<h3><a href=\"https://www.goodreads.com/book/show/30165203-american-gods\n",
       "\" target=\"_blank\">American Gods</a></h3>\n",
       "                     <p>Days before his release from prison, Shadow's wife, Laura, dies in a mysterious car crash. Numbly, he makes his way back home. On the plane, he encounters the enigmatic Mr Wednesday, who claims to be a refugee from a distant war, a former god and the king of America.                        Together they embark on a profoundly strange journey across the heart of the USA, whilst all around them a storm of preternatural and epic proportions threatens to break.                        Scary, gripping and deeply unsettling,                         American Gods                        takes a long, hard look into the soul of America. You'll be surprised by what - and who - it finds there...                         This is the author's preferred text, never before published in the UK, and is about 12,000 words longer than the previous UK edition.</p>"
      ],
      "text/plain": [
       "<IPython.core.display.HTML object>"
      ]
     },
     "metadata": {},
     "output_type": "display_data"
    },
    {
     "data": {
      "text/html": [
       "<h3><a href=\"https://www.goodreads.com/book/show/43758.The_Queen_of_the_Damned\n",
       "\" target=\"_blank\">The Queen of the Damned</a></h3>\n",
       "                     <p>Librarian's note: An alternate cover edition can be found                           here                         In 1976, a uniquely seductive world of vampires was unveiled in the now-classic                         Interview with the Vampire                        . . . in 1985, a wild and voluptous voice spoke to us, telling the story of                         The Vampire Lestat                        .  In                         The Queen of the Damned                        , Anne Rice continues her extraordinary \"Vampire Chronicles\" in a feat of mesmeric storytelling, a chillingly hypnotic entertainment in which the oldest and most powerful forces of the night are unleashed on an unsuspecting world.                        Three brilliantly colored narrative threads intertwine as the story unfolds:                        - The rock star known as Vampire Lestat, worshipped by millions of spellbound fans, prepares for a concert in San Francisco.  Among the audience--pilgrims in a blind swoon of adoration--are hundreds of vampires, creatures who see Lestat as a \"greedy fiend risking the secret prosperity of all his kind just to be loved and seen by mortals,\" fiends themselves who hate Lestat's power and who are determined to destroy him . . .                        - The sleep of certain men and women--vampires                         and                        mortals scattered around the world--is haunted by a vivid, mysterious dream: of twins with fiery red hair and piercing green eyes who suffer an unspeakable tragedy.  It is a dream that slowly, tauntingly reveals its meaning to the dreamers as they make their way toward each other--some to be destroyed on the journey, some to face an even more terrifying fate at journey's end . . .                        - Akasha--Queen of the Damned, mother of all vampires, rises after a 6,000 year sleep and puts into motion a heinous plan to \"save\" mankind from itself and make \"all myths of the world real\" by elevating herself and her chosen son/lover to the level of the gods: \"I am the fulfillment and I shall from this moment be the cause\" . . .                        These narrative threads wind sinuously across a vast, richly detailed tapestry of the violent, sensual world of vampirism, taking us back 6,000 years to its beginnings.  As the stories of the \"first brood\" of blood drinkers are revealed, we are swept across the ages, from Egypt to South America to the Himalayas to all the shrouded corners of the globe where vampires have left their mark. Vampires are created--mortals succumbing to the sensation of \"being enptied, of being devoured, of being nothing.\" Vampires are destroyed.  Dark rituals are performed--the rituals of ancient creatures prowling the modern world.  And, finally, we are brought to a moment in the twentieth century when, in an astonishing climax, the fate of the living dead--and perhaps of the living, all the living--will be decided.                         From the Hardcover edition.</p>"
      ],
      "text/plain": [
       "<IPython.core.display.HTML object>"
      ]
     },
     "metadata": {},
     "output_type": "display_data"
    },
    {
     "data": {
      "text/html": [
       "<h3><a href=\"https://www.goodreads.com/book/show/29209.The_Color_of_Water\n",
       "\" target=\"_blank\">The Color of Water: A Black Man's Tribute to His White Mother</a></h3>\n",
       "                     <p>Touches readers of all colors as a vivid portrait of growing up, a haunting meditation on race and identity, and a lyrical valentine to a mother from her son.                        Who is Ruth McBride Jordan? A self-declared \"light-skinned\" woman evasive about her ethnicity, yet steadfast in her love for her twelve black children. James McBride, journalist, musician and son, explores his mother's past, as well as his own upbringing and heritage, in a poignant and powerful debut, The Color Of Water: A Black Man's Tribute to His White Mother.                        The son of a black minister and a woman who would not admit she was white, James McBride grew up in \"orchestrated chaos\" with his eleven siblings in the poor, all-black projects of Red Hook, Brooklyn. \"Mommy,\" a fiercely protective woman with \"dark eyes full of pep and fire,\" herded her brood to Manhattan's free cultural events, sent them off on buses to the best (and mainly Jewish) schools, demanded good grades and commanded respect. As a young man, McBride saw his mother as a source of embarrassment, worry, and confusion--and reached thirty before he began to discover the truth about her early life and long-buried pain.                        In The Color of Water, McBride retraces his mother's footsteps and, through her searing and spirited voice, recreates her remarkable story. The daughter of a failed itinerant Orthodox rabbi, she was born Rachel Shilsky (actually Ruchel Dwara Zylska) in Poland on April 1, 1921. Fleeing pogroms, her family emigrated to America and ultimately settled in Suffolk, Virginia, a small town where anti-Semitism and racial tensions ran high. With candor and immediacy, Ruth describes her parents' loveless marriage; her fragile, handicapped mother; her cruel, sexually-abusive father; and the rest of the family and life she abandoned.                        At seventeen, after fleeing Virginia and settling in New York City, Ruth married a black minister and founded the all-black New Brown Memorial Baptist Church in her Red Hook living room. \"God is the color of water,\" Ruth McBride taught her children, firmly convinced that life's blessings and life's values transcend race. Twice widowed, and continually confronting overwhelming adversity and racism, Ruth's determination, drive and discipline saw her dozen children through college--and most through graduate school. At age 65, she herself received a degree in social work from Temple University.                        Interspersed throughout his mother's compelling narrative, McBride shares candid recollections of his own experiences as a mixed-race child of poverty, his flirtations with drugs and violence, and his eventual self-realization and professional success. The Color of Water touches readers of all colors as a vivid portrait of growing up, a haunting meditation on race and identity, and a lyrical valentine to a mother from her son.</p>"
      ],
      "text/plain": [
       "<IPython.core.display.HTML object>"
      ]
     },
     "metadata": {},
     "output_type": "display_data"
    },
    {
     "data": {
      "text/html": [
       "<h3><a href=\"https://www.goodreads.com/book/show/1255781.Have_a_Little_Faith\n",
       "\" target=\"_blank\">Have a Little Faith: a True Story</a></h3>\n",
       "                     <p>In                           Have a Little Faith                          , Mitch Albom offers a beautifully written story of a remarkable eight-year journey between two worlds--two men, two faiths, two communities--that will inspire readers everywhere.                         Albom's first nonfiction book since                           Tuesdays with Morrie, Have a Little Faith                          begins with an unusual request: an eighty-two-year-old rabbi from Albom's old hometown asks him to deliver his eulogy.                         Feeling unworthy, Albom insists on understanding the man better, which throws him back into a world of faith he'd left years ago. Meanwhile, closer to his current home, Albom becomes involved with a Detroit pastor--a reformed drug dealer and convict--who preaches to the poor and homeless in a decaying church with a hole in its roof.                         Moving between their worlds, Christian and Jewish, African-American and white, impoverished and well-to-do, Albom observes how these very different men employ faith similarly in fighting for survival: the older, suburban rabbi embracing it as death approaches; the younger, inner-city pastor relying on it to keep himself and his church afloat.                         As America struggles with hard times and people turn more to their beliefs, Albom and the two men of God explore issues that perplex modern man: how to endure when difficult things happen; what heaven is; intermarriage; forgiveness; doubting God; and the importance of faith in trying times. Although the texts, prayers, and histories are different, Albom begins to recognize a striking unity between the two worlds--and indeed, between beliefs everywhere.                         In the end, as the rabbi nears death and a harsh winter threatens the pastor's wobbly church, Albom sadly fulfills the rabbi's last request and writes the eulogy. And he finally understands what both men had been teaching all along: the profound comfort of believing in something bigger than yourself.                          Have a Little Faith                          is a book about a life's purpose; about losing belief and finding it again; about the divine spark inside us all. It is one man's journey, but it is everyone's story.                         Ten percent of the profits from this book will go to charity, including The Hole In The Roof Foundation, which helps refurbish places of worship that aid the homeless.</p>"
      ],
      "text/plain": [
       "<IPython.core.display.HTML object>"
      ]
     },
     "metadata": {},
     "output_type": "display_data"
    },
    {
     "data": {
      "text/html": [
       "<h3><a href=\"https://www.goodreads.com/book/show/36176163-ssn-seadragon\n",
       "\" target=\"_blank\">SSN Seadragon: The Crucible of Leviathan</a></h3>\n",
       "                     <p>A “Leviathan spirit” is said to be a demon spirit controlled by Satan. When unleashed, it leaves total destruction in its wake, and cannot be subdued by normal human methods, but only by the power of God. The Cold War saw “Leviathan” snarling at his gate, salivating to be let loose, when humanity was treading ever closer to nuclear holocaust. During this period, American servicemen went into the breech to stand against whatever form “Leviathan” took, and like the American warriors of past years they held strong to their faith in God to see them through.                        Such a warrior is Daniel O’Kean, a World War II UDT/OSS veteran and commissioned naval officer, turned covert deep-penetration maritime CIA specialist, who has only his faith to see him through his own encounters with “Leviathan.” His first test is a pre-invasion, reconnaissance mission behind the lines of Inchon Korea, where the threat of capture by North Korean invaders is around every corner. Later he leads an assignment into Latvia with near disastrous consequences. Then called upon again, into the steaming jungles near Haiphong Vietnam, while attempting to retrieve evidence of active Soviet intervention in the war, he uncovers an unusual and vital turn of events that leads to a twisted plot in the streets of London England.                        With each step he takes he sees God’s hand guiding him                        closer to a fate he does not fully understand, but follows faithfully.                        While O’Kean is battling an evil he cannot see, the captain of the nuclear submarine USS Seadragon, LCDR Renzo MacKenna has his own faith challenged in another form of “Leviathan” as he and CDR David Heidleman of the USS Permit coordinate to foil a Soviet plot to end America’s involvement in Vietnam. One wrong move by them and “Leviathan’s” bite could go nuclear.</p>"
      ],
      "text/plain": [
       "<IPython.core.display.HTML object>"
      ]
     },
     "metadata": {},
     "output_type": "display_data"
    }
   ],
   "source": [
    "from IPython.core.display import display, HTML\n",
    "\n",
    "query = input()\n",
    "\n",
    "tokens = [stem.stem(w.lower()) for w in word_tokenize(query)]\n",
    "first = True\n",
    "for t in tokens:\n",
    "    if first:\n",
    "        results = set(vocabulary[t])\n",
    "        first = False\n",
    "    else:\n",
    "        results = results.intersection(set(vocabulary[t]))\n",
    "\n",
    "serp_at_5 = df[df['bookId'].isin(results)][['bookTitle', 'Plot', 'url']][:5]\n",
    "for ind in range(len(serp_at_5)):\n",
    "    s = serp_at_5.iloc[ind]\n",
    "    display(HTML(f\"\"\"<h3><a href=\"{s[\"url\"]}\" target=\"_blank\">{s[\"bookTitle\"]}</a></h3>\n",
    "                     <p>{s[\"Plot\"]}</p>\"\"\"))"
   ]
  },
  {
   "cell_type": "code",
   "execution_count": 16,
   "metadata": {},
   "outputs": [
    {
     "name": "stderr",
     "output_type": "stream",
     "text": [
      "[nltk_data] Downloading package punkt to\n",
      "[nltk_data]     C:\\Users\\lozzi\\AppData\\Roaming\\nltk_data...\n",
      "[nltk_data]   Unzipping tokenizers\\punkt.zip.\n"
     ]
    },
    {
     "data": {
      "text/plain": [
       "True"
      ]
     },
     "execution_count": 16,
     "metadata": {},
     "output_type": "execute_result"
    }
   ],
   "source": [
    "nltk.download('punkt')"
   ]
  },
  {
   "cell_type": "code",
   "execution_count": 15,
   "metadata": {},
   "outputs": [],
   "source": [
    "import nltk"
   ]
  },
  {
   "cell_type": "code",
   "execution_count": null,
   "metadata": {},
   "outputs": [],
   "source": []
  }
 ],
 "metadata": {
  "kernelspec": {
   "display_name": "Python 3",
   "language": "python",
   "name": "python3"
  },
  "language_info": {
   "codemirror_mode": {
    "name": "ipython",
    "version": 3
   },
   "file_extension": ".py",
   "mimetype": "text/x-python",
   "name": "python",
   "nbconvert_exporter": "python",
   "pygments_lexer": "ipython3",
   "version": "3.7.4"
  }
 },
 "nbformat": 4,
 "nbformat_minor": 4
}
